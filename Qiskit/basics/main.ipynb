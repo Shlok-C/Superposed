{
 "cells": [
  {
   "cell_type": "code",
   "execution_count": 22,
   "id": "1c66e3e7",
   "metadata": {},
   "outputs": [
    {
     "data": {
      "text/plain": [
       "'1.3.2'"
      ]
     },
     "execution_count": 22,
     "metadata": {},
     "output_type": "execute_result"
    }
   ],
   "source": [
    "# imports \n",
    "import qiskit\n",
    "from qiskit.circuit import QuantumCircuit, QuantumRegister, ClassicalRegister\n",
    "from qiskit import qasm3, qpy\n",
    "\n",
    "import matplotlib.pyplot as plt\n",
    "\n",
    "import numpy as np\n",
    "import scipy as sp\n",
    "import sympy as smp\n",
    "\n",
    "import pathlib\n",
    "\n",
    "qiskit.__version__"
   ]
  },
  {
   "cell_type": "markdown",
   "id": "61a2f215",
   "metadata": {},
   "source": [
    "# Basic Bell State"
   ]
  },
  {
   "cell_type": "code",
   "execution_count": 24,
   "id": "83e72e93",
   "metadata": {},
   "outputs": [],
   "source": [
    "qreg = QuantumRegister(2, name=\"qreg\")\n",
    "creg = ClassicalRegister(2, name=\"creg\")\n",
    "\n",
    "circuit = QuantumCircuit(qreg, creg, name=\"Bell State\")\n",
    "\n",
    "circuit.h(0)\n",
    "circuit.cx(0, 1)\n",
    "circuit.measure([0, 1], [0, 1])\n",
    "circuit.draw('mpl')\n",
    "\n",
    "qasm_path = pathlib.Path('bell_state.qasm')\n",
    "\n",
    "qasm_string = qasm3.dumps(circuit)\n",
    "\n",
    "with qasm_path.open('w', encoding='utf-8') as f:\n",
    "    f.write(qasm_string)"
   ]
  },
  {
   "cell_type": "code",
   "execution_count": null,
   "id": "bebdfd6d",
   "metadata": {},
   "outputs": [],
   "source": []
  },
  {
   "cell_type": "code",
   "execution_count": null,
   "id": "50dac386",
   "metadata": {},
   "outputs": [],
   "source": []
  }
 ],
 "metadata": {
  "kernelspec": {
   "display_name": "Python 3",
   "language": "python",
   "name": "python3"
  },
  "language_info": {
   "codemirror_mode": {
    "name": "ipython",
    "version": 3
   },
   "file_extension": ".py",
   "mimetype": "text/x-python",
   "name": "python",
   "nbconvert_exporter": "python",
   "pygments_lexer": "ipython3",
   "version": "3.13.2"
  }
 },
 "nbformat": 4,
 "nbformat_minor": 5
}
